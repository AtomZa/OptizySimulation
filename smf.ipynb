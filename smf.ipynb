{
  "nbformat": 4,
  "nbformat_minor": 0,
  "metadata": {
    "colab": {
      "name": "smf.ipynb",
      "provenance": [],
      "collapsed_sections": [],
      "authorship_tag": "ABX9TyOFxRdZ9yVFQ7jnd7pZZsZQ",
      "include_colab_link": true
    },
    "kernelspec": {
      "name": "python3",
      "display_name": "Python 3"
    },
    "language_info": {
      "name": "python"
    }
  },
  "cells": [
    {
      "cell_type": "markdown",
      "metadata": {
        "id": "view-in-github",
        "colab_type": "text"
      },
      "source": [
        "<a href=\"https://colab.research.google.com/github/AtomZa/OptizySimulation/blob/main/smf.ipynb\" target=\"_parent\"><img src=\"https://colab.research.google.com/assets/colab-badge.svg\" alt=\"Open In Colab\"/></a>"
      ]
    },
    {
      "cell_type": "code",
      "source": [
        "import numpy as np\n",
        "from scipy.special import jv\n",
        "from scipy.special import kv\n",
        "from scipy.optimize import root_scalar\n",
        "import math"
      ],
      "metadata": {
        "id": "X43SMjcTL5MV"
      },
      "execution_count": 92,
      "outputs": []
    },
    {
      "cell_type": "markdown",
      "source": [
        "# Optical Parameters"
      ],
      "metadata": {
        "id": "uJd37C0PMGEW"
      }
    },
    {
      "cell_type": "code",
      "execution_count": 93,
      "metadata": {
        "id": "IxBFShh9v-rk"
      },
      "outputs": [],
      "source": [
        "ncoresmf = 1.4504;\n",
        "ncladdingsmf = 1.447;\n",
        "asmf = 4.1;\n",
        "ncoremmf = 1.443;\n",
        "nmedium = 1.04641231840654;\n",
        "ncladdingmmf = nmedium;\n",
        "ammf = 62.5;\n",
        "zmmf = 57713;\n",
        "epscoresmf = math.pow(ncoresmf, 2);\n",
        "epscladdingsmf = math.pow(ncladdingsmf, 2);\n",
        "epscoremmf = math.pow(ncoremmf, 2);\n",
        "epscladdingmmf = math.pow(ncladdingmmf, 2);\n",
        "lamb = 0.3;\n",
        "k0 = 2*math.pi/lamb;\n",
        "aair = 72.5;\n",
        "dx = 0.0001;\n",
        "ifinal = ((ncoresmf - ncladdingsmf)/dx);"
      ]
    },
    {
      "cell_type": "markdown",
      "source": [
        "# Find Effective Index"
      ],
      "metadata": {
        "id": "xo7QdEELMVfN"
      }
    },
    {
      "cell_type": "code",
      "source": [
        "def func(neff,epscoresmf,epscladdingsmf,k0,asmf):\n",
        "    return ((jv(0,k0*asmf*math.sqrt(epscoresmf - math.pow(neff,2))))*(k0*asmf*math.sqrt(math.pow(neff,2) - epscladdingsmf))*(kv(1,k0*asmf*math.sqrt(math.pow(neff,2) - epscladdingsmf)))) - ((kv(0,k0*asmf*math.sqrt(math.pow(neff,2) - epscladdingsmf)))*(k0*asmf*math.sqrt(epscoresmf - math.pow(neff,2)))*(jv(1,k0*asmf*math.sqrt(epscoresmf - math.pow(neff,2)))));"
      ],
      "metadata": {
        "id": "3iP_JUlh1cVC"
      },
      "execution_count": 94,
      "outputs": []
    },
    {
      "cell_type": "code",
      "source": [
        "neffarrsmf = 0;\n",
        "for i in range(round(ifinal)):\n",
        "  try:\n",
        "    sol = root_scalar(func, args=(epscoresmf, epscladdingsmf, k0, asmf), method='toms748', bracket=[ncoresmf-((i+1)*dx), ncoresmf-(i*dx)])\n",
        "    neffarrsmf = sol.root\n",
        "    break\n",
        "  except:\n",
        "    pass"
      ],
      "metadata": {
        "id": "5HvuPfkfx-ap"
      },
      "execution_count": 95,
      "outputs": []
    },
    {
      "cell_type": "markdown",
      "source": [
        "# Singlemode"
      ],
      "metadata": {
        "id": "eAykDMOHMeQX"
      }
    },
    {
      "cell_type": "code",
      "source": [
        "usmf =  k0*asmf*math.sqrt(math.pow(ncoresmf,2) - math.pow(neffarrsmf,2));   \n",
        "wsmf =  k0*asmf*math.sqrt(math.pow(neffarrsmf,2) - math.pow(ncladdingsmf,2));"
      ],
      "metadata": {
        "id": "9gG-p99lL0Ss"
      },
      "execution_count": 96,
      "outputs": []
    },
    {
      "cell_type": "code",
      "source": [
        "rarrsmf = np.arange(-asmf, asmf, 0.01);\n",
        "rarrcladding1 = np.arange(-ammf, -asmf-0.01, 0.01);\n",
        "rarrcladding2 = np.arange(asmf+0.01, ammf, 0.01);\n",
        "rarrair1 = np.arange(-aair, -ammf-0.01, 0.01);\n",
        "rarrair2 = np.arange(ammf+0.01, aair, 0.01);\n",
        "rarrall = np.concatenate((rarrair1, rarrcladding1, rarrsmf, rarrcladding2, rarrair2), axis=None)\n",
        "print(rarrall)"
      ],
      "metadata": {
        "colab": {
          "base_uri": "https://localhost:8080/"
        },
        "id": "HGCKGbzILwUd",
        "outputId": "5e35b09a-b3e7-4095-a0aa-95e331c4b0c7"
      },
      "execution_count": 97,
      "outputs": [
        {
          "output_type": "stream",
          "name": "stdout",
          "text": [
            "[-72.5  -72.49 -72.48 ...  72.48  72.49  72.5 ]\n"
          ]
        }
      ]
    },
    {
      "cell_type": "code",
      "source": [
        "ecoresmf = jv(0,(usmf*rarrsmf/asmf));\n",
        "c = (jv(0,usmf))/(kv(0,wsmf));\n",
        "ecladdingsmf2 = c*(kv(0,(wsmf*rarrcladding2/asmf)));\n",
        "ecladdingsmf1 = np.zeros(np.size(ecladdingsmf2))\n",
        "eair1 = np.zeros(np.size(rarrair1));\n",
        "eair2 = np.zeros(np.size(rarrair2));\n",
        "eall =  np.concatenate((eair1, ecladdingsmf1, ecoresmf, ecladdingsmf2, eair2), axis=None)"
      ],
      "metadata": {
        "id": "6cb7U64uRXMl"
      },
      "execution_count": 98,
      "outputs": []
    },
    {
      "cell_type": "code",
      "source": [
        "from matplotlib import pyplot as plt\n",
        "plt.plot(rarrall,eall)\n",
        "plt.show()"
      ],
      "metadata": {
        "colab": {
          "base_uri": "https://localhost:8080/",
          "height": 265
        },
        "id": "aQlGic90TSFN",
        "outputId": "09e6f8df-ce92-4387-99a5-46c882203a2e"
      },
      "execution_count": 100,
      "outputs": [
        {
          "output_type": "display_data",
          "data": {
            "text/plain": [
              "<Figure size 432x288 with 1 Axes>"
            ],
            "image/png": "[encoded data removed]"
          },
          "metadata": {
            "needs_background": "light"
          }
        }
      ]
    }
  ]
}