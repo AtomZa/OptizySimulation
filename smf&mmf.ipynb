{
  "nbformat": 4,
  "nbformat_minor": 0,
  "metadata": {
    "colab": {
      "name": "smf&mmf.ipynb",
      "provenance": [],
      "collapsed_sections": [],
      "authorship_tag": "ABX9TyOFX/Vv+eQgYjIBmtRoiWRI",
      "include_colab_link": true
    },
    "kernelspec": {
      "name": "python3",
      "display_name": "Python 3"
    },
    "language_info": {
      "name": "python"
    }
  },
  "cells": [
    {
      "cell_type": "markdown",
      "metadata": {
        "id": "view-in-github",
        "colab_type": "text"
      },
      "source": [
        "<a href=\"https://colab.research.google.com/github/AtomZa/OptizySimulation/blob/main/smf%26mmf.ipynb\" target=\"_parent\"><img src=\"https://colab.research.google.com/assets/colab-badge.svg\" alt=\"Open In Colab\"/></a>"
      ]
    },
    {
      "cell_type": "code",
      "source": [
        "import numpy as np\n",
        "from matplotlib import pyplot as plt\n",
        "from scipy.special import jv # Bessel function of the first kind\n",
        "from scipy.special import kv # Modified Bessel function of the second kind\n",
        "from scipy.special import kve # Exponentially scaled modified Bessel function of the second kind\n",
        "from scipy.optimize import root_scalar # Root finding algorithm\n",
        "import math"
      ],
      "metadata": {
        "id": "X43SMjcTL5MV"
      },
      "execution_count": 260,
      "outputs": []
    },
    {
      "cell_type": "markdown",
      "source": [
        "# Optical Parameters"
      ],
      "metadata": {
        "id": "uJd37C0PMGEW"
      }
    },
    {
      "cell_type": "code",
      "execution_count": 261,
      "metadata": {
        "id": "IxBFShh9v-rk"
      },
      "outputs": [],
      "source": [
        "ncoresmf = 1.4504;\n",
        "ncladdingsmf = 1.447;\n",
        "asmf = 4.1;\n",
        "ncoremmf = 1.443;\n",
        "nmedium = 1.04641231840654;\n",
        "ncladdingmmf = nmedium;\n",
        "ammf = 62.5;\n",
        "zmmf = 57713;\n",
        "epscoresmf = math.pow(ncoresmf, 2);\n",
        "epscladdingsmf = math.pow(ncladdingsmf, 2);\n",
        "epscoremmf = math.pow(ncoremmf, 2);\n",
        "epscladdingmmf = math.pow(ncladdingmmf, 2);\n",
        "lamb = 0.3;\n",
        "k0 = 2*math.pi/lamb;\n",
        "aair = 72.5;\n",
        "dx = 0.0001;\n",
        "ifinal = ((ncoresmf - ncladdingsmf)/dx);"
      ]
    },
    {
      "cell_type": "markdown",
      "source": [
        "# Find Effective Index"
      ],
      "metadata": {
        "id": "xo7QdEELMVfN"
      }
    },
    {
      "cell_type": "code",
      "source": [
        "def characeqnsmf(neff,epscoresmf,epscladdingsmf,k0,asmf):\n",
        "    return ((jv(0,k0*asmf*math.sqrt(epscoresmf - math.pow(neff,2))))*(k0*asmf*math.sqrt(math.pow(neff,2) - epscladdingsmf))*(kv(1,k0*asmf*math.sqrt(math.pow(neff,2) - epscladdingsmf)))) - ((kv(0,k0*asmf*math.sqrt(math.pow(neff,2) - epscladdingsmf)))*(k0*asmf*math.sqrt(epscoresmf - math.pow(neff,2)))*(jv(1,k0*asmf*math.sqrt(epscoresmf - math.pow(neff,2)))));"
      ],
      "metadata": {
        "id": "3iP_JUlh1cVC"
      },
      "execution_count": 262,
      "outputs": []
    },
    {
      "cell_type": "code",
      "source": [
        "neffarrsmf = 0;\n",
        "for i in range(round(ifinal)):\n",
        "  try:\n",
        "    sol = root_scalar(characeqnsmf, args=(epscoresmf, epscladdingsmf, k0, asmf), method='toms748', bracket=[ncoresmf-((i+1)*dx), ncoresmf-(i*dx)])\n",
        "    neffarrsmf = sol.root\n",
        "    break\n",
        "  except:\n",
        "    pass"
      ],
      "metadata": {
        "id": "5HvuPfkfx-ap"
      },
      "execution_count": 263,
      "outputs": []
    },
    {
      "cell_type": "markdown",
      "source": [
        "# Singlemode"
      ],
      "metadata": {
        "id": "eAykDMOHMeQX"
      }
    },
    {
      "cell_type": "code",
      "source": [
        "usmf =  k0*asmf*math.sqrt(math.pow(ncoresmf,2) - math.pow(neffarrsmf,2));   \n",
        "wsmf =  k0*asmf*math.sqrt(math.pow(neffarrsmf,2) - math.pow(ncladdingsmf,2));"
      ],
      "metadata": {
        "id": "9gG-p99lL0Ss"
      },
      "execution_count": 264,
      "outputs": []
    },
    {
      "cell_type": "code",
      "source": [
        "rarrsmf = np.arange(-asmf, asmf, 0.01);\n",
        "rarrcladding1 = np.arange(-ammf, -asmf-0.01, 0.01);\n",
        "rarrcladding2 = np.arange(asmf+0.01, ammf, 0.01);\n",
        "rarrair1 = np.arange(-aair, -ammf-0.01, 0.01);\n",
        "rarrair2 = np.arange(ammf+0.01, aair, 0.01);\n",
        "rarrall = np.concatenate((rarrair1, rarrcladding1, rarrsmf, rarrcladding2, rarrair2), axis=None)"
      ],
      "metadata": {
        "id": "HGCKGbzILwUd"
      },
      "execution_count": 265,
      "outputs": []
    },
    {
      "cell_type": "code",
      "source": [
        "ecoresmf = jv(0,(usmf*rarrsmf/asmf));\n",
        "c = (jv(0,usmf))/(kv(0,wsmf));\n",
        "ecladdingsmf2 = c*(kv(0,(wsmf*rarrcladding2/asmf)));\n",
        "ecladdingsmf1 = np.zeros(np.size(ecladdingsmf2))\n",
        "eair1 = np.zeros(np.size(rarrair1));\n",
        "eair2 = np.zeros(np.size(rarrair2));\n",
        "eall =  np.concatenate((eair1, ecladdingsmf1, ecoresmf, ecladdingsmf2, eair2), axis=None)"
      ],
      "metadata": {
        "id": "6cb7U64uRXMl"
      },
      "execution_count": 266,
      "outputs": []
    },
    {
      "cell_type": "code",
      "source": [
        "plt.plot(rarrall,eall)\n",
        "plt.show()"
      ],
      "metadata": {
        "colab": {
          "base_uri": "https://localhost:8080/",
          "height": 265
        },
        "id": "aQlGic90TSFN",
        "outputId": "cba19852-78e3-42b8-9770-bf03cf9612e4"
      },
      "execution_count": 267,
      "outputs": [
        {
          "output_type": "display_data",
          "data": {
            "text/plain": [
              "<Figure size 432x288 with 1 Axes>"
            ],
            "image/png": "[encoded data removed]"
          },
          "metadata": {
            "needs_background": "light"
          }
        }
      ]
    },
    {
      "cell_type": "markdown",
      "source": [
        "# Multimode"
      ],
      "metadata": {
        "id": "JcKA2AygdlNb"
      }
    },
    {
      "cell_type": "code",
      "source": [
        "ifinal = ((ncoremmf - ncladdingmmf)/dx);\n",
        "neffarrmmf = np.zeros((1,round(ifinal))); "
      ],
      "metadata": {
        "id": "Ri8bgpn3dp-L"
      },
      "execution_count": 268,
      "outputs": []
    },
    {
      "cell_type": "code",
      "source": [
        "def characeqnmmf(neff,epscoremmf,epscladdingmmf,k0,ammf):\n",
        "    return ((jv(0,k0*ammf*math.sqrt(epscoremmf - math.pow(neff,2))))*(k0*ammf*math.sqrt(math.pow(neff,2) - epscladdingmmf))*(kve(1,k0*ammf*math.sqrt(math.pow(neff,2) - epscladdingmmf)))) - ((kve(0,k0*ammf*math.sqrt(math.pow(neff,2) - epscladdingmmf)))*(k0*ammf*math.sqrt(epscoremmf - math.pow(neff,2)))*(jv(1,k0*ammf*math.sqrt(epscoremmf - math.pow(neff,2)))));"
      ],
      "metadata": {
        "id": "v7QRrjjukA5J"
      },
      "execution_count": 269,
      "outputs": []
    },
    {
      "cell_type": "code",
      "source": [
        "for i in range(round(ifinal)):\n",
        "  try:\n",
        "    sol = root_scalar(characeqnmmf, args=(epscoremmf, epscladdingmmf, k0, ammf), method='toms748', bracket=[ncladdingmmf + (i*dx), ncladdingmmf + ((i+1)*dx)])\n",
        "    neffarrmmf[0,i] = sol.root\n",
        "  except:\n",
        "    neffarrmmf[0,i] = np.nan\n",
        "    pass"
      ],
      "metadata": {
        "colab": {
          "base_uri": "https://localhost:8080/"
        },
        "id": "mnH8CFelgM5q",
        "outputId": "e27a9bcb-2a76-4064-eb8a-845678df73de"
      },
      "execution_count": 270,
      "outputs": [
        {
          "output_type": "stream",
          "name": "stderr",
          "text": [
            "/usr/local/lib/python3.7/dist-packages/ipykernel_launcher.py:2: RuntimeWarning: invalid value encountered in double_scalars\n",
            "  \n"
          ]
        }
      ]
    },
    {
      "cell_type": "code",
      "source": [
        "neffarrmmf= neffarrmmf[:, ~np.isnan(neffarrmmf).any(axis=0)]\n",
        "neffarrmmf = np.flip(neffarrmmf, axis=None)\n",
        "mmfmode = np.arange(0, np.size(neffarrmmf), 1)"
      ],
      "metadata": {
        "id": "KEvJqL0bj2ca"
      },
      "execution_count": 274,
      "outputs": []
    },
    {
      "cell_type": "code",
      "source": [
        "plt.plot(mmfmode, np.transpose(neffarrmmf), '.')\n",
        "plt.show()"
      ],
      "metadata": {
        "colab": {
          "base_uri": "https://localhost:8080/",
          "height": 265
        },
        "id": "nSJ-B0nzpK1y",
        "outputId": "2ba471f4-a2a3-427f-fe87-9851984c0a50"
      },
      "execution_count": 275,
      "outputs": [
        {
          "output_type": "display_data",
          "data": {
            "text/plain": [
              "<Figure size 432x288 with 1 Axes>"
            ],
            "image/png": "[encoded data removed]"
          },
          "metadata": {
            "needs_background": "light"
          }
        }
      ]
    }
  ]
}