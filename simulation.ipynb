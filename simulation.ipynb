{
  "nbformat": 4,
  "nbformat_minor": 0,
  "metadata": {
    "colab": {
      "name": "smf&mmf.ipynb",
      "provenance": [],
      "collapsed_sections": [],
      "include_colab_link": true
    },
    "kernelspec": {
      "name": "python3",
      "display_name": "Python 3"
    },
    "language_info": {
      "name": "python"
    }
  },
  "cells": [
    {
      "cell_type": "markdown",
      "metadata": {
        "id": "view-in-github",
        "colab_type": "text"
      },
      "source": [
        "<a href=\"https://colab.research.google.com/github/AtomZa/OptizySimulation/blob/main/simulation.ipynb\" target=\"_parent\"><img src=\"https://colab.research.google.com/assets/colab-badge.svg\" alt=\"Open In Colab\"/></a>"
      ]
    },
    {
      "cell_type": "code",
      "source": [
        "import numpy as np\n",
        "from matplotlib import pyplot as plt\n",
        "from scipy.special import jv # Bessel function of the first kind\n",
        "from scipy.special import kv # Modified Bessel function of the second kind\n",
        "from scipy.special import kve # Exponentially scaled modified Bessel function of the second kind\n",
        "from scipy.optimize import root_scalar # Root finding algorithm\n",
        "import scipy.integrate as integrate\n",
        "import math"
      ],
      "metadata": {
        "id": "X43SMjcTL5MV"
      },
      "execution_count": 1,
      "outputs": []
    },
    {
      "cell_type": "markdown",
      "source": [
        "# Optical Parameters"
      ],
      "metadata": {
        "id": "uJd37C0PMGEW"
      }
    },
    {
      "cell_type": "code",
      "execution_count": 2,
      "metadata": {
        "id": "IxBFShh9v-rk"
      },
      "outputs": [],
      "source": [
        "ncoresmf = 1.4504;\n",
        "ncladdingsmf = 1.447;\n",
        "asmf = 4.1;\n",
        "ncoremmf = 1.443;\n",
        "nmedium = 1.04641231840654;\n",
        "ncladdingmmf = nmedium;\n",
        "ammf = 62.5;\n",
        "zmmf = 57713;\n",
        "epscoresmf = math.pow(ncoresmf, 2);\n",
        "epscladdingsmf = math.pow(ncladdingsmf, 2);\n",
        "epscoremmf = math.pow(ncoremmf, 2);\n",
        "epscladdingmmf = math.pow(ncladdingmmf, 2);\n",
        "lamb = 0.3;\n",
        "k0 = 2*math.pi/lamb;\n",
        "aair = 72.5;\n",
        "dx = 5e-6;\n",
        "ifinal = ((ncoresmf - ncladdingsmf)/dx);"
      ]
    },
    {
      "cell_type": "markdown",
      "source": [
        "# Find Effective Index"
      ],
      "metadata": {
        "id": "xo7QdEELMVfN"
      }
    },
    {
      "cell_type": "code",
      "source": [
        "def characeqnsmf(neff,epscoresmf,epscladdingsmf,k0,asmf):\n",
        "    return ((jv(0,k0*asmf*math.sqrt(epscoresmf - math.pow(neff,2))))*(k0*asmf*math.sqrt(math.pow(neff,2) - epscladdingsmf))*(kv(1,k0*asmf*math.sqrt(math.pow(neff,2) - epscladdingsmf)))) - ((kv(0,k0*asmf*math.sqrt(math.pow(neff,2) - epscladdingsmf)))*(k0*asmf*math.sqrt(epscoresmf - math.pow(neff,2)))*(jv(1,k0*asmf*math.sqrt(epscoresmf - math.pow(neff,2)))));"
      ],
      "metadata": {
        "id": "3iP_JUlh1cVC"
      },
      "execution_count": 3,
      "outputs": []
    },
    {
      "cell_type": "code",
      "source": [
        "neffarrsmf = 0;\n",
        "for i in range(round(ifinal)):\n",
        "  try:\n",
        "    sol = root_scalar(characeqnsmf, args=(epscoresmf, epscladdingsmf, k0, asmf), method='toms748', bracket=[ncoresmf-((i+1)*dx), ncoresmf-(i*dx)])\n",
        "    neffarrsmf = sol.root\n",
        "    break\n",
        "  except:\n",
        "    pass"
      ],
      "metadata": {
        "id": "5HvuPfkfx-ap"
      },
      "execution_count": 4,
      "outputs": []
    },
    {
      "cell_type": "markdown",
      "source": [
        "# Singlemode"
      ],
      "metadata": {
        "id": "eAykDMOHMeQX"
      }
    },
    {
      "cell_type": "code",
      "source": [
        "\n",
        "usmf =  k0*asmf*math.sqrt(math.pow(ncoresmf,2) - math.pow(neffarrsmf,2));   \n",
        "wsmf =  k0*asmf*math.sqrt(math.pow(neffarrsmf,2) - math.pow(ncladdingsmf,2));"
      ],
      "metadata": {
        "id": "9gG-p99lL0Ss"
      },
      "execution_count": 5,
      "outputs": []
    },
    {
      "cell_type": "code",
      "source": [
        "rarrsmf = np.arange(-asmf, asmf, 0.01);\n",
        "rarrcladding1 = np.arange(-ammf, -asmf-0.01, 0.01);\n",
        "rarrcladding2 = np.arange(asmf+0.01, ammf, 0.01);\n",
        "rarrair1 = np.arange(-aair, -ammf-0.01, 0.01);\n",
        "rarrair2 = np.arange(ammf+0.01, aair, 0.01);\n",
        "rarrall = np.concatenate((rarrair1, rarrcladding1, rarrsmf, rarrcladding2, rarrair2), axis=None)"
      ],
      "metadata": {
        "id": "HGCKGbzILwUd"
      },
      "execution_count": 6,
      "outputs": []
    },
    {
      "cell_type": "code",
      "source": [
        "ecoresmf = jv(0,(usmf*rarrsmf/asmf));\n",
        "c = (jv(0,usmf))/(kv(0,wsmf));\n",
        "ecladdingsmf2 = c*(kv(0,(wsmf*rarrcladding2/asmf)));\n",
        "ecladdingsmf1 = np.zeros(np.size(ecladdingsmf2))\n",
        "eair1 = np.zeros(np.size(rarrair1));\n",
        "eair2 = np.zeros(np.size(rarrair2));\n",
        "eall =  np.concatenate((eair1, ecladdingsmf1, ecoresmf, ecladdingsmf2, eair2), axis=None)"
      ],
      "metadata": {
        "id": "6cb7U64uRXMl"
      },
      "execution_count": 7,
      "outputs": []
    },
    {
      "cell_type": "code",
      "source": [
        "plt.plot(rarrall,eall)\n",
        "plt.show()"
      ],
      "metadata": {
        "colab": {
          "base_uri": "https://localhost:8080/",
          "height": 265
        },
        "id": "aQlGic90TSFN",
        "outputId": "cdddfb8f-6ae4-4803-cdff-244136e2f349"
      },
      "execution_count": 8,
      "outputs": [
        {
          "output_type": "display_data",
          "data": {
            "text/plain": [
              "<Figure size 432x288 with 1 Axes>"
            ],
            "image/png": "[encoded data removed]"
          },
          "metadata": {
            "needs_background": "light"
          }
        }
      ]
    },
    {
      "cell_type": "markdown",
      "source": [
        "# Multimode"
      ],
      "metadata": {
        "id": "JcKA2AygdlNb"
      }
    },
    {
      "cell_type": "code",
      "source": [
        "ifinal = ((ncoremmf - ncladdingmmf)/dx);\n",
        "neffarrmmf = np.zeros((1,round(ifinal)));"
      ],
      "metadata": {
        "id": "Ri8bgpn3dp-L"
      },
      "execution_count": 9,
      "outputs": []
    },
    {
      "cell_type": "code",
      "source": [
        "def characeqnmmf(neff,epscoremmf,epscladdingmmf,k0,ammf):\n",
        "    return ((jv(0,k0*ammf*math.sqrt(epscoremmf - math.pow(neff,2))))*(k0*ammf*math.sqrt(math.pow(neff,2) - epscladdingmmf))*(kve(1,k0*ammf*math.sqrt(math.pow(neff,2) - epscladdingmmf)))) - ((kve(0,k0*ammf*math.sqrt(math.pow(neff,2) - epscladdingmmf)))*(k0*ammf*math.sqrt(epscoremmf - math.pow(neff,2)))*(jv(1,k0*ammf*math.sqrt(epscoremmf - math.pow(neff,2)))));"
      ],
      "metadata": {
        "id": "v7QRrjjukA5J"
      },
      "execution_count": 10,
      "outputs": []
    },
    {
      "cell_type": "code",
      "source": [
        "for i in range(round(ifinal)):\n",
        "  try:\n",
        "    sol = root_scalar(characeqnmmf, args=(epscoremmf, epscladdingmmf, k0, ammf), method='toms748', bracket=[ncladdingmmf + (i*dx), ncladdingmmf + ((i+1)*dx)])\n",
        "    neffarrmmf[0,i] = sol.root\n",
        "  except:\n",
        "    neffarrmmf[0,i] = np.nan\n",
        "    pass"
      ],
      "metadata": {
        "colab": {
          "base_uri": "https://localhost:8080/"
        },
        "id": "mnH8CFelgM5q",
        "outputId": "ad08a6b5-9cd7-46a6-ae89-ab9dadaef222"
      },
      "execution_count": 11,
      "outputs": [
        {
          "output_type": "stream",
          "name": "stderr",
          "text": [
            "/usr/local/lib/python3.7/dist-packages/ipykernel_launcher.py:2: RuntimeWarning: invalid value encountered in double_scalars\n",
            "  \n"
          ]
        }
      ]
    },
    {
      "cell_type": "code",
      "source": [
        "neffarrmmf= neffarrmmf[:, ~np.isnan(neffarrmmf).any(axis=0)]\n",
        "neffarrmmf = np.flip(neffarrmmf, axis=None)\n",
        "mmfmode = np.arange(0, np.size(neffarrmmf), 1)"
      ],
      "metadata": {
        "id": "KEvJqL0bj2ca"
      },
      "execution_count": 12,
      "outputs": []
    },
    {
      "cell_type": "code",
      "source": [
        "plt.plot(mmfmode, np.transpose(neffarrmmf), '.')\n",
        "plt.show()"
      ],
      "metadata": {
        "colab": {
          "base_uri": "https://localhost:8080/",
          "height": 265
        },
        "id": "nSJ-B0nzpK1y",
        "outputId": "e0179de2-3f4c-4632-b0d6-c26e52e052bc"
      },
      "execution_count": 13,
      "outputs": [
        {
          "output_type": "display_data",
          "data": {
            "text/plain": [
              "<Figure size 432x288 with 1 Axes>"
            ],
            "image/png": "[encoded data removed]"
          },
          "metadata": {
            "needs_background": "light"
          }
        }
      ]
    },
    {
      "cell_type": "markdown",
      "source": [
        "## Coupling Efficiency"
      ],
      "metadata": {
        "id": "QTulEwgd8MMU"
      }
    },
    {
      "cell_type": "code",
      "source": [
        "uarrmmf = np.zeros((1, max(neffarrmmf.shape)), dtype=float)\n",
        "warrmmf = np.zeros((1, max(neffarrmmf.shape)), dtype=float)\n",
        "carr = np.zeros((1, max(neffarrmmf.shape)), dtype=float)\n",
        "\n",
        "for j in range(max(neffarrmmf.shape)):\n",
        "  uarrmmf[0,j] = k0*ammf*math.sqrt(ncoremmf**2 - neffarrmmf[0,j]**2);\n",
        "  warrmmf[0,j] = k0*ammf*math.sqrt( neffarrmmf[0,j]**2 - ncladdingmmf**2);\n",
        "  carr[0,j] = (jv(0, uarrmmf[0,j])/(kve(0, warrmmf[0,j])))"
      ],
      "metadata": {
        "id": "hcxcO6MF8Ow7"
      },
      "execution_count": 14,
      "outputs": []
    },
    {
      "cell_type": "code",
      "source": [
        "pj = np.zeros((1, max(neffarrmmf.shape)), dtype=float)\n",
        "aj = np.zeros((1, max(neffarrmmf.shape)), dtype=float)\n",
        "\n",
        "csmf = (jv(0,usmf))/(kv(0,wsmf));   \n",
        "ecladdingsmf = csmf*(kv(0,(wsmf*rarrcladding2/asmf)));\n",
        "eair = ecladdingsmf[-1]\n",
        "\n",
        "for ii in range(max(neffarrmmf.shape)):\n",
        "  funpj1 = lambda r : ((np.absolute(jv(0,(uarrmmf[0,ii]*r/ammf))))**2)*r\n",
        "  funpj2 = lambda r : ((np.absolute(carr[0,ii]*kv(0,(warrmmf[0,ii]*r/ammf))))**2)*r\n",
        "  pj[0, ii] = ((integrate.quad(funpj1,0,ammf)[0])+(integrate.quad(funpj2,ammf,ammf*3))[0])*2*math.pi\n",
        "\n",
        "  funpaj1 = lambda r : ((jv(0,(usmf*r/asmf)))*(np.conj(jv(0,(uarrmmf[0,ii]*r/ammf)))))*r\n",
        "  funpaj2 = lambda r : ((csmf*kv(0,(wsmf*r/asmf)))*(np.conj(jv(0,(uarrmmf[0,ii]*r/ammf)))))*r\n",
        "  funpaj3 = lambda r : ((eair)*(np.conj(carr[0,ii]*kv(0,(warrmmf[0,ii]*r/ammf)))))*r;\n",
        "\n",
        "  aj[0, ii] = (integrate.quad(funpaj1,0,asmf)[0] + integrate.quad(funpaj2,asmf,ammf)[0] + integrate.quad(funpaj3,ammf,ammf*3)[0])*2*math.pi/pj[0,ii]"
      ],
      "metadata": {
        "id": "7cPHMVdD8Yib",
        "outputId": "2ddd6377-12da-4aab-d22b-d521332ec175",
        "colab": {
          "base_uri": "https://localhost:8080/"
        }
      },
      "execution_count": 15,
      "outputs": [
        {
          "output_type": "stream",
          "name": "stderr",
          "text": [
            "/usr/local/lib/python3.7/dist-packages/ipykernel_launcher.py:11: IntegrationWarning: The maximum number of subdivisions (50) has been achieved.\n",
            "  If increasing the limit yields no improvement it is advised to analyze \n",
            "  the integrand in order to determine the difficulties.  If the position of a \n",
            "  local difficulty can be determined (singularity, discontinuity) one will \n",
            "  probably gain from splitting up the interval and calling the integrator \n",
            "  on the subranges.  Perhaps a special-purpose integrator should be used.\n",
            "  # This is added back by InteractiveShellApp.init_path()\n"
          ]
        }
      ]
    },
    {
      "cell_type": "code",
      "source": [
        "zarr = np.expand_dims(np.arange(0, 50000, 50), axis=0)\n",
        "betammf = neffarrmmf*k0\n",
        "funescore = lambda r : ((np.absolute(jv(0,(usmf*r/asmf))))**2)*r\n",
        "funesclad = lambda r : ((np.absolute(csmf*kv(0,(wsmf*r/asmf))))**2)*r\n",
        "ps = (integrate.quad(funescore,0,asmf)[0] + integrate.quad(funesclad,asmf,ammf)[0])*(2*math.pi)\n",
        "ajbar = aj*(np.sqrt(pj/ps))\n",
        "\n",
        "P1 = np.transpose(((betammf-np.transpose(betammf))*1j))\n",
        "P1 = P1.flatten()*np.transpose(zarr)\n",
        "P2 = np.log((ajbar**2)*np.transpose(((np.conj(ajbar))**2)))\n",
        "P2 = P2.flatten()\n",
        "P3 = np.absolute(np.sum(np.exp(P2+P1), axis=1))\n",
        "P3.shape"
      ],
      "metadata": {
        "colab": {
          "base_uri": "https://localhost:8080/"
        },
        "id": "zcZy3dn7P9JM",
        "outputId": "8cfa0719-82ec-4717-f71a-e0471d77a5d1"
      },
      "execution_count": 16,
      "outputs": [
        {
          "output_type": "execute_result",
          "data": {
            "text/plain": [
              "(1000,)"
            ]
          },
          "metadata": {},
          "execution_count": 16
        }
      ]
    },
    {
      "cell_type": "code",
      "source": [
        "plt.plot(np.transpose(zarr), P3)\n",
        "plt.show()"
      ],
      "metadata": {
        "id": "fjciA4WvcMJr",
        "outputId": "c55ac282-9f1f-4a8e-8610-87599d6ee4e9",
        "colab": {
          "base_uri": "https://localhost:8080/",
          "height": 265
        }
      },
      "execution_count": 17,
      "outputs": [
        {
          "output_type": "display_data",
          "data": {
            "text/plain": [
              "<Figure size 432x288 with 1 Axes>"
            ],
            "image/png": "[encoded data removed]"
          },
          "metadata": {
            "needs_background": "light"
          }
        }
      ]
    }
  ]
}